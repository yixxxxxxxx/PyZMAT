{
 "cells": [
  {
   "cell_type": "markdown",
   "id": "3e7ab844-c8af-480b-a459-fd8c6a57da5b",
   "metadata": {},
   "source": [
    "# Forces and Hessian \n",
    "\n",
    "In this tutorial, we analytically calculate the force vector and Hessian matrix of benzoic acid in internal coordinates. We then verify these results by comparing them to the same quantities calculated via finite differences. \n",
    "\n",
    "## Background: Z-Matrix\n",
    "Before we start performing calculations, let's take some time to understand the Z-matrix and how it is represented wwithin PyZMAT.\n",
    "\n",
    "A **Z-matrix** is a way to encode a molecule’s geometry using internal coordinates—bond lengths, bond angles, and dihedral angles—instead of Cartesian $(x, y, z)$ positions. Each new atom is placed relative to one or more previously defined atoms:\n",
    "\n",
    "1. The **first** atom is placed at the origin.  \n",
    "2. The **second** atom is placed at a specified **bond length** from atom 1.  \n",
    "3. The **third** atom is placed at a specified **bond length** from atom 2 and a **bond angle** relative to atoms 2–1.  \n",
    "4. Subsequent atoms use a **bond length**, **bond angle**, and **dihedral angle** defined with respect to three earlier atoms.\n",
    "\n",
    "\n",
    "A common way of representing the Z-matrix is:\n",
    "\n",
    "| Atom  | Bond Ref | Bond Val   | Angle Ref | Angle Val   | Dihedral Ref | Dihedral Val  |\n",
    "|-------|----------|------------|-----------|-------------|--------------|---------------|\n",
    "| Atom 0 | –        | –          | –         | –           | –            | –             |\n",
    "| Atom 1 | Atom 0     | $b_{1,0}$   | –         | –           | –            | –             |\n",
    "| Atom 2 | Atom 0     | $b_{2,0}$   | Atom 1      | $a_{2,0,1}$    | –            | –             |\n",
    "| Atom 3 | Atom 2     | $b_{3,2}$   | Atom 0      | $a_{3,2,0}$   | Atom 1         | $d_{3,2,0,1}$      |\n",
    "| …     | …        | …          | …         | …           | …            | …             |\n",
    "| Atom $i$     | Atom $j$        | $b_{i,j}$          |  Atom $k$        | $a_{i,j,k}$           | Atom $l$            | $d_{i,j,k,l}$             |\n",
    "\n",
    "In PyZMAT, this is stored as two parallel lists - a list of values and a list of connectivities. For the table above,\n",
    "```python\n",
    "zmat = [\n",
    "    [Species0, None, None, None],    #Atom 0 \n",
    "    [Species1, b_10, None, None],    #Atom 1 \n",
    "    [Species2, b_20, a_201, None],    #Atom 2\n",
    "    [Species3, b_32, a_320, d_3201],    #Atom 3\n",
    "    ...\n",
    "    [Speciesi, b_ij, a_ijk, d_ijkl]    #Atom I\n",
    "    ...\n",
    "]\n",
    "```\n",
    "and\n",
    "```python\n",
    "zmat_conn = [\n",
    "    (Species0, None, None, None),    #Atom 0\n",
    "    (Species1, 0, None, None),    #Atom 1 \n",
    "    (Species2, 0, 1, None),    #Atom 2\n",
    "    (Species3, 2, 0, 1),    #Atom 3\n",
    "    ...\n",
    "    (Speciesi, j, k, l)    #Atom I\n",
    "    ...\n",
    "]\n",
    "```\n",
    "\n",
    "* ```SpeciesI```: Chemical symbol of Atom $i$ (string)\n",
    "* ```Bndi_val, Angi_val, Dihi_val```: bond length $b_{i,j}$ [A], bond angle $a_{i,j,k}$ [deg], and dihedral angle $d_{i,j,k,l}$ [deg] of Atom $i$ defined with respect to Atom $j$, Atom $k$, and Atom $l$ (floats)\n",
    "* ```j, k, l```: Indices of reference atoms Atom $i$, Atom $j$, and Atom $k$ (integers)\n",
    "\n",
    "We will see this in practice early on in this tutorial\n",
    "\n",
    "## 1. Setting up structure\n",
    "We begin by importing all modules from PyZMAT as well as a few modules from ase."
   ]
  },
  {
   "cell_type": "code",
   "execution_count": 1,
   "id": "d247553d-3db0-4980-8405-bceba35cb291",
   "metadata": {},
   "outputs": [],
   "source": [
    "from pyzmat import *\n",
    "from ase import Atoms\n",
    "from ase.io import read"
   ]
  },
  {
   "cell_type": "markdown",
   "id": "8dd741b2-e596-48bf-bfdf-16f12a9e7746",
   "metadata": {},
   "source": [
    "We can load our structure from an .xyz file and an initial set of Z-matrix connectivities defined with respect to the line numbers in .xyz file."
   ]
  },
  {
   "cell_type": "code",
   "execution_count": 2,
   "id": "0267ef14-b147-4c5e-89d9-11dab397ee59",
   "metadata": {},
   "outputs": [],
   "source": [
    "xyz_file = 'BENZAC02.xyz'\n",
    "zmat_def = [\n",
    "    (2, None, None, None),\n",
    "    (3, 2, None, None),\n",
    "    (4, 3, 2, None),\n",
    "    (5, 4, 3, 2),\n",
    "    (6, 5, 4, 3),\n",
    "    (7, 6, 5, 4),\n",
    "    (8, 7, 6, 5),\n",
    "    (1, 2, 3, 4),\n",
    "    (0, 2, 3, 1),\n",
    "    (14, 0, 2, 3),\n",
    "    (9, 4, 3, 8),\n",
    "    (10, 5, 4, 3),\n",
    "    (11, 6, 5, 4),\n",
    "    (12, 7, 6, 5),\n",
    "    (13, 8, 7, 6),\n",
    "]\n",
    "atoms = read(xyz_file)"
   ]
  },
  {
   "cell_type": "markdown",
   "id": "e8272aa3-30af-4a52-afe7-1f9e18894b77",
   "metadata": {},
   "source": [
    "With this set of information, the function atoms_2_zmat_init in the ZmatUtils class allows us to form a re-ordered Z-matrix based on our initial connectivity definition. The aforementioned zmat and zmat_conn are then consistent with this new ordering. Note that zmat_conn is distinct from zmat_def:"
   ]
  },
  {
   "cell_type": "code",
   "execution_count": 3,
   "id": "7641c516-c9c9-47fb-b0fa-be5304a02c94",
   "metadata": {},
   "outputs": [
    {
     "name": "stdout",
     "output_type": "stream",
     "text": [
      "[('C', None, None, None), ('C', 0, None, None), ('C', 1, 0, None), ('C', 2, 1, 0), ('C', 3, 2, 1), ('C', 4, 3, 2), ('C', 5, 4, 3), ('O', 0, 1, 2), ('O', 0, 1, 7), ('H', 8, 0, 1), ('H', 2, 1, 6), ('H', 3, 2, 1), ('H', 4, 3, 2), ('H', 5, 4, 3), ('H', 6, 5, 4)]\n"
     ]
    }
   ],
   "source": [
    "zmat, zmat_conn = ZmatUtils.atoms_2_zmat_init(atoms, zmat_def)\n",
    "print(zmat_conn)"
   ]
  },
  {
   "cell_type": "markdown",
   "id": "805f796b-ce76-4755-8f49-948b488b29d7",
   "metadata": {},
   "source": [
    "With zmat and zmat_conn defined, we are now ready to form a ZMatrix object that represents our molecular structure. Let's visualise this:"
   ]
  },
  {
   "cell_type": "code",
   "execution_count": 4,
   "id": "41b22742-8449-48e1-966f-09dd9fb5e0e2",
   "metadata": {},
   "outputs": [
    {
     "data": {
      "text/html": [
       "<html>\n",
       "    <head>\n",
       "        <title>ASE atomic visualization</title>\n",
       "        <link rel=\"stylesheet\" type=\"text/css\"             href=\"https://www.x3dom.org/release/x3dom.css\"></link>\n",
       "        <script type=\"text/javascript\"             src=\"https://www.x3dom.org/release/x3dom.js\"></script>\n",
       "    </head>\n",
       "    <body>\n",
       "        <X3D width=\"400px\"; height=\"300px\";>\n",
       "\n",
       "<!--Inserting Generated X3D Scene-->\n",
       "<scene>\n",
       "  <viewpoint position=\"0 0 13.365155214071198\">\n",
       "    <group/>\n",
       "  </viewpoint>\n",
       "  <transform translation=\"-0.0 -0.0 -0.0\">\n",
       "    <group>\n",
       "      <group>\n",
       "        <transform translation=\"0 0 0\">\n",
       "          <shape>\n",
       "            <appearance>\n",
       "              <material diffuseColor=\"0 0 0\"/>\n",
       "            </appearance>\n",
       "            <lineset vertexCount=\"5\">\n",
       "              <coordinate point=\"0 0 0 0.0 0.0 0.0 0.0 0.0 0.0 0.0 0.0 0.0 0 0 0\"/>\n",
       "            </lineset>\n",
       "          </shape>\n",
       "        </transform>\n",
       "        <transform translation=\"0.0 0.0 0.0\">\n",
       "          <shape>\n",
       "            <appearance>\n",
       "              <material diffuseColor=\"0 0 0\"/>\n",
       "            </appearance>\n",
       "            <lineset vertexCount=\"5\">\n",
       "              <coordinate point=\"0 0 0 0.0 0.0 0.0 0.0 0.0 0.0 0.0 0.0 0.0 0 0 0\"/>\n",
       "            </lineset>\n",
       "          </shape>\n",
       "        </transform>\n",
       "        <transform translation=\"0 0 0\">\n",
       "          <shape>\n",
       "            <appearance>\n",
       "              <material diffuseColor=\"0 0 0\"/>\n",
       "            </appearance>\n",
       "            <lineset vertexCount=\"5\">\n",
       "              <coordinate point=\"0 0 0 0.0 0.0 0.0 0.0 0.0 0.0 0.0 0.0 0.0 0 0 0\"/>\n",
       "            </lineset>\n",
       "          </shape>\n",
       "        </transform>\n",
       "        <transform translation=\"0.0 0.0 0.0\">\n",
       "          <shape>\n",
       "            <appearance>\n",
       "              <material diffuseColor=\"0 0 0\"/>\n",
       "            </appearance>\n",
       "            <lineset vertexCount=\"5\">\n",
       "              <coordinate point=\"0 0 0 0.0 0.0 0.0 0.0 0.0 0.0 0.0 0.0 0.0 0 0 0\"/>\n",
       "            </lineset>\n",
       "          </shape>\n",
       "        </transform>\n",
       "      </group>\n",
       "      <group>\n",
       "        <transform translation=\"0.0 0.0 0.0\">\n",
       "          <shape>\n",
       "            <appearance>\n",
       "              <material diffuseColor=\"0.565 0.565 0.565\"/>\n",
       "            </appearance>\n",
       "            <sphere radius=\"0.76\"/>\n",
       "          </shape>\n",
       "        </transform>\n",
       "        <transform translation=\"1.484337710031649 0.0 0.0\">\n",
       "          <shape>\n",
       "            <appearance>\n",
       "              <material diffuseColor=\"0.565 0.565 0.565\"/>\n",
       "            </appearance>\n",
       "            <sphere radius=\"0.76\"/>\n",
       "          </shape>\n",
       "        </transform>\n",
       "        <transform translation=\"2.187035712920601 -1.1946446629039444 0.0\">\n",
       "          <shape>\n",
       "            <appearance>\n",
       "              <material diffuseColor=\"0.565 0.565 0.565\"/>\n",
       "            </appearance>\n",
       "            <sphere radius=\"0.76\"/>\n",
       "          </shape>\n",
       "        </transform>\n",
       "        <transform translation=\"3.5698766644721416 -1.1721440085043469 -0.00027429112334403477\">\n",
       "          <shape>\n",
       "            <appearance>\n",
       "              <material diffuseColor=\"0.565 0.565 0.565\"/>\n",
       "            </appearance>\n",
       "            <sphere radius=\"0.76\"/>\n",
       "          </shape>\n",
       "        </transform>\n",
       "        <transform translation=\"4.248492861729248 0.013872438281209432 0.0035245728473811454\">\n",
       "          <shape>\n",
       "            <appearance>\n",
       "              <material diffuseColor=\"0.565 0.565 0.565\"/>\n",
       "            </appearance>\n",
       "            <sphere radius=\"0.76\"/>\n",
       "          </shape>\n",
       "        </transform>\n",
       "        <transform translation=\"3.5506961676313016 1.2041250578278728 0.001513558853652014\">\n",
       "          <shape>\n",
       "            <appearance>\n",
       "              <material diffuseColor=\"0.565 0.565 0.565\"/>\n",
       "            </appearance>\n",
       "            <sphere radius=\"0.76\"/>\n",
       "          </shape>\n",
       "        </transform>\n",
       "        <transform translation=\"2.17356230639536 1.2000593424180352 -0.0019329204503983513\">\n",
       "          <shape>\n",
       "            <appearance>\n",
       "              <material diffuseColor=\"0.565 0.565 0.565\"/>\n",
       "            </appearance>\n",
       "            <sphere radius=\"0.76\"/>\n",
       "          </shape>\n",
       "        </transform>\n",
       "        <transform translation=\"-0.5911948652805493 1.1210278242902396 -0.020631605512062858\">\n",
       "          <shape>\n",
       "            <appearance>\n",
       "              <material diffuseColor=\"1.0 0.051 0.051\"/>\n",
       "            </appearance>\n",
       "            <sphere radius=\"0.66\"/>\n",
       "          </shape>\n",
       "        </transform>\n",
       "        <transform translation=\"-0.6044903137331653 -1.1028967375799097 0.01894430540744078\">\n",
       "          <shape>\n",
       "            <appearance>\n",
       "              <material diffuseColor=\"1.0 0.051 0.051\"/>\n",
       "            </appearance>\n",
       "            <sphere radius=\"0.66\"/>\n",
       "          </shape>\n",
       "        </transform>\n",
       "        <transform translation=\"-1.467554028466711 -1.1661035502924313 0.01362895188611033\">\n",
       "          <shape>\n",
       "            <appearance>\n",
       "              <material diffuseColor=\"1.0 1.0 1.0\"/>\n",
       "            </appearance>\n",
       "            <sphere radius=\"0.31\"/>\n",
       "          </shape>\n",
       "        </transform>\n",
       "        <transform translation=\"1.7187381388684138 -2.035518955948004 0.008696960646652888\">\n",
       "          <shape>\n",
       "            <appearance>\n",
       "              <material diffuseColor=\"1.0 1.0 1.0\"/>\n",
       "            </appearance>\n",
       "            <sphere radius=\"0.31\"/>\n",
       "          </shape>\n",
       "        </transform>\n",
       "        <transform translation=\"3.9752273451013966 -1.9858796905590443 0.05599760241487177\">\n",
       "          <shape>\n",
       "            <appearance>\n",
       "              <material diffuseColor=\"1.0 1.0 1.0\"/>\n",
       "            </appearance>\n",
       "            <sphere radius=\"0.31\"/>\n",
       "          </shape>\n",
       "        </transform>\n",
       "        <transform translation=\"5.215023578568888 0.019177886105029962 0.013262519183221015\">\n",
       "          <shape>\n",
       "            <appearance>\n",
       "              <material diffuseColor=\"1.0 1.0 1.0\"/>\n",
       "            </appearance>\n",
       "            <sphere radius=\"0.31\"/>\n",
       "          </shape>\n",
       "        </transform>\n",
       "        <transform translation=\"4.025860659925282 1.9972643699673434 0.05559758577408802\">\n",
       "          <shape>\n",
       "            <appearance>\n",
       "              <material diffuseColor=\"1.0 1.0 1.0\"/>\n",
       "            </appearance>\n",
       "            <sphere radius=\"0.31\"/>\n",
       "          </shape>\n",
       "        </transform>\n",
       "        <transform translation=\"1.707684563442743 2.0285604046090824 -0.040436846830464\">\n",
       "          <shape>\n",
       "            <appearance>\n",
       "              <material diffuseColor=\"1.0 1.0 1.0\"/>\n",
       "            </appearance>\n",
       "            <sphere radius=\"0.31\"/>\n",
       "          </shape>\n",
       "        </transform>\n",
       "      </group>\n",
       "    </group>\n",
       "  </transform>\n",
       "</scene>\n",
       "<!--End of Inserted Scene-->\n",
       "\n",
       "        </X3D>\n",
       "    </body>\n",
       "</html>\n",
       "\n"
      ],
      "text/plain": [
       "<IPython.core.display.HTML object>"
      ]
     },
     "execution_count": 4,
     "metadata": {},
     "output_type": "execute_result"
    }
   ],
   "source": [
    "benzac = ZMatrix(zmat, zmat_conn)\n",
    "benzac.view_ase()"
   ]
  },
  {
   "cell_type": "code",
   "execution_count": 5,
   "id": "bdfefc01-9455-46f2-afcc-28c6574e98e8",
   "metadata": {},
   "outputs": [
    {
     "name": "stderr",
     "output_type": "stream",
     "text": [
      "/root/miniconda3/envs/pyzmat_test/lib/python3.13/site-packages/e3nn/o3/_wigner.py:10: FutureWarning: You are using `torch.load` with `weights_only=False` (the current default value), which uses the default pickle module implicitly. It is possible to construct malicious pickle data which will execute arbitrary code during unpickling (See https://github.com/pytorch/pytorch/blob/main/SECURITY.md#untrusted-models for more details). In a future release, the default value for `weights_only` will be flipped to `True`. This limits the functions that could be executed during unpickling. Arbitrary objects will no longer be allowed to be loaded via this mode unless they are explicitly allowlisted by the user via `torch.serialization.add_safe_globals`. We recommend you start setting `weights_only=True` for any use case where you don't have full control of the loaded file. Please open an issue on GitHub for any issues related to this experimental feature.\n",
      "  _Jd, _W3j_flat, _W3j_indices = torch.load(os.path.join(os.path.dirname(__file__), 'constants.pt'))\n"
     ]
    },
    {
     "name": "stdout",
     "output_type": "stream",
     "text": [
      "Using MACE-OFF23 MODEL for MACECalculator with /root/.cache/mace/MACE-OFF23_large.model\n",
      "Using float64 for MACECalculator, which is slower but more accurate. Recommended for geometry optimization.\n"
     ]
    },
    {
     "name": "stderr",
     "output_type": "stream",
     "text": [
      "/root/miniconda3/envs/pyzmat_test/lib/python3.13/site-packages/mace/calculators/mace.py:135: FutureWarning: You are using `torch.load` with `weights_only=False` (the current default value), which uses the default pickle module implicitly. It is possible to construct malicious pickle data which will execute arbitrary code during unpickling (See https://github.com/pytorch/pytorch/blob/main/SECURITY.md#untrusted-models for more details). In a future release, the default value for `weights_only` will be flipped to `True`. This limits the functions that could be executed during unpickling. Arbitrary objects will no longer be allowed to be loaded via this mode unless they are explicitly allowlisted by the user via `torch.serialization.add_safe_globals`. We recommend you start setting `weights_only=True` for any use case where you don't have full control of the loaded file. Please open an issue on GitHub for any issues related to this experimental feature.\n",
      "  torch.load(f=model_path, map_location=device)\n"
     ]
    }
   ],
   "source": [
    "benzac.attach_calculator('mace')"
   ]
  },
  {
   "cell_type": "markdown",
   "id": "16221f20-9702-434c-8612-db922c2a95a9",
   "metadata": {},
   "source": [
    "## 2. Calculating forces\n",
    "\n",
    "The Cartesian force on degree of freedom $i$ is given by the negative gradient of the potential:\n",
    "$$F^\\mathrm{cart}_i \\;=\\;-\\,\\frac{\\partial U}{\\partial r_i}$$\n",
    "where $U$ is the system’s potential energy and $r_i$ is the $i$-th Cartesian coordinate.\n",
    "\n",
    "The internal coordinates equivalent to this is \n",
    "$$F^\\mathrm{int}_s \\;=\\;-\\,\\frac{\\partial U}{\\partial \\theta_s}$$\n",
    "where $\\theta_s$ is the $s$-th internal coordinate.\n",
    "\n",
    "Via the chain rule, one can write\n",
    "$$F^\\mathrm{int}_s = \\sum_i^{3N} \\frac{\\partial r_i}{\\partial\\theta_s}\\frac{\\partial U}{\\partial r_i}$$\n",
    "or in matrix form\n",
    "$$\\mathbf{F}^\\mathrm{int}=\\mathbf{B}\\cdot\\mathbf{F}^\\mathrm{cart}$$\n",
    "where $\\mathbf{B}$ is the Wilson-$\\mathbf{B}$ matrix of $B_{i,s}=(\\partial r_i/\\partial\\theta_s)_{i,s}$\n",
    "Given this and that we have analytical forces in Cartesian coordinates from ASE, we have two strategies for computing forces in internal coordinates:\n",
    "1. **Computing $\\mathbf{B}$ by finite difference**: perturb entry corresponding to $\\theta_s$ in ```zmat``` in forward and backward directions, build cartesian molecule for both, and find the gradient on $r_i$\n",
    "2. Computing $\\mathbf{B}$ analytically\n",
    "\n",
    "Both approaches are implemented in PyZMAT. The first approach: "
   ]
  },
  {
   "cell_type": "code",
   "execution_count": 15,
   "id": "b8b10365-4f70-4a0d-9cc3-05492ecb2ee9",
   "metadata": {},
   "outputs": [
    {
     "name": "stdout",
     "output_type": "stream",
     "text": [
      "C1                                                                     \n",
      "C2     -0.011089769934236                                              \n",
      "C3      0.024308308929303      0.214460595682476                       \n",
      "C4      0.503049763325678      0.067817546979841     -0.019823275403291\n",
      "C5      1.341866889510375      0.531738087767389     -0.059131135368434\n",
      "C6      1.032219693366688      0.802688551679668      0.046771470354587\n",
      "C7      0.446196040384410      0.569322920284653     -0.067724274125442\n",
      "O1     -3.324666460110532      0.644216519573160     -0.004360009331533\n",
      "O2      3.334342765418469     -0.414158532828518      0.000000759638751\n",
      "H1      6.844012591957627     -0.869443960036592     -0.006858868557243\n",
      "H2      5.900015345853051     -0.037674825614649     -0.011703283261095\n",
      "H3     10.088225688438163      0.443512753582513      0.170222479189539\n",
      "H4      5.665570519199710      0.021002719943851     -0.032410867471460\n",
      "H5      8.709121331166092      0.201329753833941      0.174788456725604\n",
      "H6      6.648567284629670      0.227972268855839     -0.142742063660881\n"
     ]
    }
   ],
   "source": [
    "forces_fd = benzac.get_fd_forces()\n",
    "PrintUtils.print_forces(forces_fd, benzac.zmat)"
   ]
  },
  {
   "cell_type": "markdown",
   "id": "a8344996-0ec1-4937-8731-fc3c80f8ffe8",
   "metadata": {},
   "source": [
    "The second approach:"
   ]
  },
  {
   "cell_type": "code",
   "execution_count": 16,
   "id": "49d844de-afa7-4d2e-ae94-873772082a5b",
   "metadata": {},
   "outputs": [
    {
     "name": "stdout",
     "output_type": "stream",
     "text": [
      "C1                                                                     \n",
      "C2     -0.011089769768579                                              \n",
      "C3      0.024308309289766      0.214460595581994                       \n",
      "C4      0.503049763476398      0.067817546980054     -0.019823275293359\n",
      "C5      1.341866889317566      0.531738087939980     -0.059131135434204\n",
      "C6      1.032219693353964      0.802688551807573      0.046771470388732\n",
      "C7      0.446196040169674      0.569322920261752     -0.067724274134237\n",
      "O1     -3.324666460111706      0.644216519596916     -0.004360009331607\n",
      "O2      3.334342765329354     -0.414158532772614      0.000000759639989\n",
      "H1      6.844012591962354     -0.869443960110630     -0.006858868536359\n",
      "H2      5.900015345853305     -0.037674825592923     -0.011703283221664\n",
      "H3     10.088225688499818      0.443512753599915      0.170222479247080\n",
      "H4      5.665570519217803      0.021002720028290     -0.032410867473081\n",
      "H5      8.709121331315673      0.201329753809826      0.174788456698849\n",
      "H6      6.648567284762099      0.227972268870338     -0.142742063694220\n"
     ]
    }
   ],
   "source": [
    "forces = benzac.get_forces()\n",
    "PrintUtils.print_forces(forces, benzac.zmat)"
   ]
  },
  {
   "cell_type": "markdown",
   "id": "9041abfe-8641-4122-b1b6-51e6328d811d",
   "metadata": {},
   "source": [
    "At a glance, the two methods yield consistent forces. For a more rigorous check, we can use ```np.allclose``` with an absolute tolerance of $10^{-7}$:"
   ]
  },
  {
   "cell_type": "code",
   "execution_count": 18,
   "id": "5b6ec61a-4f7c-4374-9cbb-f5eaa63dca4e",
   "metadata": {},
   "outputs": [
    {
     "name": "stdout",
     "output_type": "stream",
     "text": [
      "The arrays are equal.\n"
     ]
    }
   ],
   "source": [
    "import numpy as np\n",
    "\n",
    "if np.allclose(forces, forces_fd, atol = 1e-7):\n",
    "    print(\"The arrays are equal.\")\n",
    "else:\n",
    "    print(\"The arrays differ beyond the allowed tolerance.\")"
   ]
  },
  {
   "cell_type": "markdown",
   "id": "4da11768-c504-4141-9bfa-0f9ae7103b59",
   "metadata": {},
   "source": [
    "### Exercise\n",
    "\n",
    "For further validation, implement a method to compute $-\\partial U/\\partial \\theta_s$ via finite difference and compare the results. For each gradient:\n",
    "1. Perturb $\\theta_s$ in the forward direction by $\\Delta\\theta_s$\n",
    "2. Generate ```atoms``` with ```zmat_2_atoms(zmat, zmat_conn)```\n",
    "3. Calculate forward energy with ASE\n",
    "4. Repeat for a backward perturbation\n",
    "5. Calculate gradient $-\\partial U/\\partial \\theta_s = -(U^\\mathrm{fwd}-U^\\mathrm{bwd})/2\\Delta\\theta_s$"
   ]
  },
  {
   "cell_type": "markdown",
   "id": "7d6675ca-1e40-4e1f-bb6a-d6dde3532754",
   "metadata": {},
   "source": [
    "## 2. Calculating Hessian\n",
    "\n",
    "The Hessian matrix is the second derivative of the potential with respect to atomic positions. In cartesian coordinates,\n",
    "$$\n",
    "H^\\mathrm{cart}_{i,i'} \\;=\\; \\frac{\\partial U}{\\partial r_{i'} \\partial r_i}\n",
    "$$\n",
    "In internal coordinates,\n",
    "$$\n",
    "H^\\mathrm{int}_{s,s'} \\;=\\; \\frac{\\partial U}{\\partial \\theta_{s'} \\partial \\theta_s}\n",
    "$$\n",
    "\n",
    "By applying the chain rule again, we eventually arrive at\n",
    "\n",
    "$$\n",
    "\\begin{aligned}\n",
    "H^\\mathrm{int}_{s,s'}\n",
    "&=\n",
    "\\sum_{i=1}^{3N}\n",
    "  \\frac{\\partial r_i}{\\partial \\theta_{s'} \\partial \\theta_s}\n",
    "  \\frac{\\partial U}{\\partial r_i}\n",
    "\\;+\\;\n",
    "\\bigl(\\mathbf{B}\\cdot\\mathbf{H}^\\mathrm{cart}\\cdot\\mathbf{B}^\\mathrm{T}\\bigr)_{s,s'}.\n",
    "\\end{aligned}\n",
    "$$\n"
   ]
  },
  {
   "cell_type": "code",
   "execution_count": null,
   "id": "a4a3b7fa-ac8b-4a96-8cca-71f0edf5b7e5",
   "metadata": {},
   "outputs": [],
   "source": []
  },
  {
   "cell_type": "code",
   "execution_count": null,
   "id": "3d66e864-8e68-43b2-bcf6-2b7a9ce989b4",
   "metadata": {},
   "outputs": [],
   "source": []
  }
 ],
 "metadata": {
  "kernelspec": {
   "display_name": "Python 3 (ipykernel)",
   "language": "python",
   "name": "python3"
  },
  "language_info": {
   "codemirror_mode": {
    "name": "ipython",
    "version": 3
   },
   "file_extension": ".py",
   "mimetype": "text/x-python",
   "name": "python",
   "nbconvert_exporter": "python",
   "pygments_lexer": "ipython3",
   "version": "3.13.1"
  }
 },
 "nbformat": 4,
 "nbformat_minor": 5
}
